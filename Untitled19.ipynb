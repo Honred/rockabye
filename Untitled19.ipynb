{
 "cells": [
  {
   "cell_type": "markdown",
   "metadata": {},
   "source": [
    "다음처럼 주어지는 진자의 운동방정식을 풀어라.\n",
    "𝑑2𝜃𝑑𝑡2+𝑔𝐿sin𝜃=0.\n",
    " \n",
    "𝛽 는 마찰의 세기,  𝐿 은 진자의 길이,  𝑔 는 중력가속도이다. 흔히 작은  𝜃 를 가정하고  sin𝜃≈𝜃  근사를 이용하여 해석적인 해를 구한다. 여기에서는  sin𝜃 를 직접 이용하여 수치해를 구해보자.\n",
    "\n",
    "2차 미분방정식을 2개의 1차 미분방정식으로 분리하자.\n",
    "𝑑𝜃𝑑𝑡=𝑤,𝑑𝑤𝑑𝑡=−𝑔𝐿sin𝜃.\n",
    "𝑔𝐿=1 을 가정하고 운동의 해를 구해보자. scipy.integrate.odeint를 포함하여 어떤 방법을 이용하여도 된다."
   ]
  },
  {
   "cell_type": "markdown",
   "metadata": {},
   "source": [
    "다음처럼 주어지는 진자의 운동방정식을 풀어라.\n",
    "\n",
    "$$ \\frac{d^2 \\theta}{dt^2}  + \\frac{g}{L} \\sin \\theta = 0.$$ $\\beta$는 마찰의 세기, $L$은 진자의 길이, $g$는 중력가속도이다. 흔히 작은 $\\theta$를 가정하고 $\\sin\\theta \\approx \\theta$ 근사를 이용하여 해석적인 해를 구한다. 여기에서는 $\\sin \\theta$를 직접 이용하여 수치해를 구해보자.\n",
    "\n",
    "2차 미분방정식을 2개의 1차 미분방정식으로 분리하자.$$ \\frac{d\\theta}{dt} = w, \\\\\n",
    "\\frac{d w}{dt} = - \\frac{g}{L} \\sin \\theta . $$\n",
    "\n",
    "$\\frac{g}{L}=1$을 가정하고 운동의 해를 구해보자. scipy.integrate.odeint를 포함하여 어떤 방법을 이용하여도 된다."
   ]
  },
  {
   "cell_type": "code",
   "execution_count": null,
   "metadata": {},
   "outputs": [],
   "source": []
  }
 ],
 "metadata": {
  "kernelspec": {
   "display_name": "Python 3",
   "language": "python",
   "name": "python3"
  },
  "language_info": {
   "codemirror_mode": {
    "name": "ipython",
    "version": 3
   },
   "file_extension": ".py",
   "mimetype": "text/x-python",
   "name": "python",
   "nbconvert_exporter": "python",
   "pygments_lexer": "ipython3",
   "version": "3.8.5"
  }
 },
 "nbformat": 4,
 "nbformat_minor": 4
}
